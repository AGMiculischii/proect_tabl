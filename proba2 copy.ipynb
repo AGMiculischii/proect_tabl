{
 "cells": [
  {
   "cell_type": "code",
   "execution_count": 3,
   "metadata": {},
   "outputs": [
    {
     "ename": "ValueError",
     "evalue": "Input vector should be 1-D.",
     "output_type": "error",
     "traceback": [
      "\u001b[1;31m---------------------------------------------------------------------------\u001b[0m",
      "\u001b[1;31mValueError\u001b[0m                                Traceback (most recent call last)",
      "Cell \u001b[1;32mIn [3], line 52\u001b[0m\n\u001b[0;32m     44\u001b[0m pixelCoordinatesLandmark2 \u001b[39m=\u001b[39m drawingModule\u001b[39m.\u001b[39m_normalized_to_pixel_coordinates(normalizedLandmark2\u001b[39m.\u001b[39mx,\n\u001b[0;32m     45\u001b[0m                                                                           normalizedLandmark2\u001b[39m.\u001b[39my,\n\u001b[0;32m     46\u001b[0m                                                                           frameWidth,\n\u001b[0;32m     47\u001b[0m                                                                           frameHeight)\n\u001b[0;32m     50\u001b[0m cv2\u001b[39m.\u001b[39mcircle(frame, pixelCoordinatesLandmark, \u001b[39m2\u001b[39m, (\u001b[39m255\u001b[39m,\u001b[39m0\u001b[39m,\u001b[39m0\u001b[39m), \u001b[39m-\u001b[39m\u001b[39m1\u001b[39m)\n\u001b[1;32m---> 52\u001b[0m \u001b[39mif\u001b[39;00m distanceModule\u001b[39m.\u001b[39;49meuclidean(pixelCoordinatesLandmark, pixelCoordinatesLandmark1) \u001b[39m>\u001b[39m \u001b[39m50\u001b[39m:\n\u001b[0;32m     53\u001b[0m     line\u001b[39m.\u001b[39mappend(pixelCoordinatesLandmark)\n\u001b[0;32m     54\u001b[0m \u001b[39mfor\u001b[39;00m i \u001b[39min\u001b[39;00m line:\n",
      "File \u001b[1;32m~\\AppData\\Roaming\\Python\\Python310\\site-packages\\scipy\\spatial\\distance.py:518\u001b[0m, in \u001b[0;36meuclidean\u001b[1;34m(u, v, w)\u001b[0m\n\u001b[0;32m    482\u001b[0m \u001b[39mdef\u001b[39;00m \u001b[39meuclidean\u001b[39m(u, v, w\u001b[39m=\u001b[39m\u001b[39mNone\u001b[39;00m):\n\u001b[0;32m    483\u001b[0m     \u001b[39m\"\"\"\u001b[39;00m\n\u001b[0;32m    484\u001b[0m \u001b[39m    Computes the Euclidean distance between two 1-D arrays.\u001b[39;00m\n\u001b[0;32m    485\u001b[0m \n\u001b[1;32m   (...)\u001b[0m\n\u001b[0;32m    516\u001b[0m \n\u001b[0;32m    517\u001b[0m \u001b[39m    \"\"\"\u001b[39;00m\n\u001b[1;32m--> 518\u001b[0m     \u001b[39mreturn\u001b[39;00m minkowski(u, v, p\u001b[39m=\u001b[39;49m\u001b[39m2\u001b[39;49m, w\u001b[39m=\u001b[39;49mw)\n",
      "File \u001b[1;32m~\\AppData\\Roaming\\Python\\Python310\\site-packages\\scipy\\spatial\\distance.py:462\u001b[0m, in \u001b[0;36mminkowski\u001b[1;34m(u, v, p, w)\u001b[0m\n\u001b[0;32m    412\u001b[0m \u001b[39m\"\"\"\u001b[39;00m\n\u001b[0;32m    413\u001b[0m \u001b[39mCompute the Minkowski distance between two 1-D arrays.\u001b[39;00m\n\u001b[0;32m    414\u001b[0m \n\u001b[1;32m   (...)\u001b[0m\n\u001b[0;32m    459\u001b[0m \n\u001b[0;32m    460\u001b[0m \u001b[39m\"\"\"\u001b[39;00m\n\u001b[0;32m    461\u001b[0m u \u001b[39m=\u001b[39m _validate_vector(u)\n\u001b[1;32m--> 462\u001b[0m v \u001b[39m=\u001b[39m _validate_vector(v)\n\u001b[0;32m    463\u001b[0m \u001b[39mif\u001b[39;00m p \u001b[39m<\u001b[39m\u001b[39m=\u001b[39m \u001b[39m0\u001b[39m:\n\u001b[0;32m    464\u001b[0m     \u001b[39mraise\u001b[39;00m \u001b[39mValueError\u001b[39;00m(\u001b[39m\"\u001b[39m\u001b[39mp must be greater than 0\u001b[39m\u001b[39m\"\u001b[39m)\n",
      "File \u001b[1;32m~\\AppData\\Roaming\\Python\\Python310\\site-packages\\scipy\\spatial\\distance.py:301\u001b[0m, in \u001b[0;36m_validate_vector\u001b[1;34m(u, dtype)\u001b[0m\n\u001b[0;32m    299\u001b[0m \u001b[39mif\u001b[39;00m u\u001b[39m.\u001b[39mndim \u001b[39m==\u001b[39m \u001b[39m1\u001b[39m:\n\u001b[0;32m    300\u001b[0m     \u001b[39mreturn\u001b[39;00m u\n\u001b[1;32m--> 301\u001b[0m \u001b[39mraise\u001b[39;00m \u001b[39mValueError\u001b[39;00m(\u001b[39m\"\u001b[39m\u001b[39mInput vector should be 1-D.\u001b[39m\u001b[39m\"\u001b[39m)\n",
      "\u001b[1;31mValueError\u001b[0m: Input vector should be 1-D."
     ]
    },
    {
     "ename": "",
     "evalue": "",
     "output_type": "error",
     "traceback": [
      "\u001b[1;31mПри выполнении кода в текущей ячейке или предыдущей ячейке ядро аварийно завершило работу. Проверьте код в ячейках, чтобы определить возможную причину сбоя. Щелкните <a href=\"https://aka.ms/vscodeJupyterKernelCrash\">здесь</a> для получения дополнительных сведений. Подробнее см. в <a href='command:jupyter.viewOutput'>журнале Jupyter</a>."
     ]
    }
   ],
   "source": [
    "import cv2\n",
    "import mediapipe\n",
    "import scipy.spatial\n",
    " \n",
    "drawingModule = mediapipe.solutions.drawing_utils\n",
    "handsModule = mediapipe.solutions.hands\n",
    "distanceModule = scipy.spatial.distance\n",
    " \n",
    "capture = cv2.VideoCapture(0)\n",
    " \n",
    "frameWidth = capture.get(cv2.CAP_PROP_FRAME_WIDTH)\n",
    "frameHeight = capture.get(cv2.CAP_PROP_FRAME_HEIGHT)\n",
    "\n",
    "line=[]\n",
    " \n",
    "with handsModule.Hands(static_image_mode=False, min_detection_confidence=0.7, min_tracking_confidence=0.7, max_num_hands=1) as hands:\n",
    " \n",
    "    while (True):\n",
    " \n",
    "        ret, frame = capture.read()\n",
    " \n",
    "        if ret == False:\n",
    "            continue\n",
    " \n",
    "        frame = cv2.flip(frame, 1)\n",
    " \n",
    "        results = hands.process(cv2.cvtColor(frame, cv2.COLOR_BGR2RGB))\n",
    "#        circleColor = (0, 0, 0)\n",
    " \n",
    "        if results.multi_hand_landmarks != None:\n",
    " \n",
    "            normalizedLandmark = results.multi_hand_landmarks[0].landmark[handsModule.HandLandmark.INDEX_FINGER_TIP]\n",
    "            pixelCoordinatesLandmark = drawingModule._normalized_to_pixel_coordinates(normalizedLandmark.x,\n",
    "                                                                                      normalizedLandmark.y,\n",
    "                                                                                      frameWidth,\n",
    "                                                                                      frameHeight)\n",
    "            normalizedLandmark1 = results.multi_hand_landmarks[0].landmark[handsModule.HandLandmark.MIDDLE_FINGER_TIP]\n",
    "            pixelCoordinatesLandmark1 = drawingModule._normalized_to_pixel_coordinates(normalizedLandmark1.x,\n",
    "                                                                                      normalizedLandmark1.y,\n",
    "                                                                                      frameWidth,\n",
    "                                                                                      frameHeight)\n",
    "            \n",
    "            normalizedLandmark2 = results.multi_hand_landmarks[0].landmark[handsModule.HandLandmark.RING_FINGER_TIP]\n",
    "            pixelCoordinatesLandmark2 = drawingModule._normalized_to_pixel_coordinates(normalizedLandmark2.x,\n",
    "                                                                                      normalizedLandmark2.y,\n",
    "                                                                                      frameWidth,\n",
    "                                                                                      frameHeight)\n",
    "\n",
    "            \n",
    "            cv2.circle(frame, pixelCoordinatesLandmark, 2, (255,0,0), -1)\n",
    "            \n",
    "            if distanceModule.euclidean(pixelCoordinatesLandmark, pixelCoordinatesLandmark1) > 50:\n",
    "                line.append(pixelCoordinatesLandmark)\n",
    "            for i in line:\n",
    "                cv2.circle(frame, i, 2, (255,0,0), -1)\n",
    "\n",
    " \n",
    "        cv2.imshow('Test image', frame)\n",
    " \n",
    "        if cv2.waitKey(1) == 27:\n",
    "            break\n",
    " \n",
    "cv2.destroyAllWindows()\n",
    "capture.release()"
   ]
  },
  {
   "cell_type": "code",
   "execution_count": null,
   "metadata": {},
   "outputs": [],
   "source": []
  }
 ],
 "metadata": {
  "kernelspec": {
   "display_name": "Python 3.10.8 64-bit",
   "language": "python",
   "name": "python3"
  },
  "language_info": {
   "codemirror_mode": {
    "name": "ipython",
    "version": 3
   },
   "file_extension": ".py",
   "mimetype": "text/x-python",
   "name": "python",
   "nbconvert_exporter": "python",
   "pygments_lexer": "ipython3",
   "version": "3.10.8"
  },
  "orig_nbformat": 4,
  "vscode": {
   "interpreter": {
    "hash": "26de051ba29f2982a8de78e945f0abaf191376122a1563185a90213a26c5da77"
   }
  }
 },
 "nbformat": 4,
 "nbformat_minor": 2
}
