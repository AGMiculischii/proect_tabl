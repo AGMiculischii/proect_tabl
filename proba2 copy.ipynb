{
 "cells": [
  {
   "cell_type": "code",
   "execution_count": 7,
   "metadata": {},
   "outputs": [],
   "source": [
    "import cv2\n",
    "import mediapipe\n",
    "import scipy.spatial\n",
    " \n",
    "drawingModule = mediapipe.solutions.drawing_utils\n",
    "handsModule = mediapipe.solutions.hands\n",
    "distanceModule = scipy.spatial.distance\n",
    " \n",
    "capture = cv2.VideoCapture(0)\n",
    " \n",
    "frameWidth = capture.get(cv2.CAP_PROP_FRAME_WIDTH)\n",
    "frameHeight = capture.get(cv2.CAP_PROP_FRAME_HEIGHT)\n",
    "\n",
    "line=[]\n",
    " \n",
    "with handsModule.Hands(static_image_mode=False, min_detection_confidence=0.7, min_tracking_confidence=0.7, max_num_hands=1) as hands:\n",
    " \n",
    "    while (True):\n",
    " \n",
    "        ret, frame = capture.read()\n",
    " \n",
    "        if ret == False:\n",
    "            continue\n",
    " \n",
    "        frame = cv2.flip(frame, 1)\n",
    " \n",
    "        results = hands.process(cv2.cvtColor(frame, cv2.COLOR_BGR2RGB))\n",
    "#        circleColor = (0, 0, 0)\n",
    " \n",
    "        if results.multi_hand_landmarks != None:\n",
    " \n",
    "            normalizedLandmark = results.multi_hand_landmarks[0].landmark[handsModule.HandLandmark.INDEX_FINGER_TIP]\n",
    "            pixelCoordinatesLandmark = drawingModule._normalized_to_pixel_coordinates(normalizedLandmark.x,\n",
    "                                                                                      normalizedLandmark.y,\n",
    "                                                                                      frameWidth,\n",
    "                                                                                      frameHeight)\n",
    " \n",
    "            line.append(pixelCoordinatesLandmark)\n",
    "            cv2.circle(frame, pixelCoordinatesLandmark, 2, (255,0,0), -1)\n",
    "            \n",
    "            for i in line:\n",
    "                cv2.circle(frame, i, 2, (255,0,0), -1)\n",
    "\n",
    " \n",
    "        cv2.imshow('Test image', frame)\n",
    " \n",
    "        if cv2.waitKey(1) == 27:\n",
    "            break\n",
    " \n",
    "cv2.destroyAllWindows()\n",
    "capture.release()"
   ]
  },
  {
   "cell_type": "code",
   "execution_count": null,
   "metadata": {},
   "outputs": [],
   "source": []
  }
 ],
 "metadata": {
  "kernelspec": {
   "display_name": "Python 3.10.8 64-bit",
   "language": "python",
   "name": "python3"
  },
  "language_info": {
   "codemirror_mode": {
    "name": "ipython",
    "version": 3
   },
   "file_extension": ".py",
   "mimetype": "text/x-python",
   "name": "python",
   "nbconvert_exporter": "python",
   "pygments_lexer": "ipython3",
   "version": "3.10.8"
  },
  "orig_nbformat": 4,
  "vscode": {
   "interpreter": {
    "hash": "26de051ba29f2982a8de78e945f0abaf191376122a1563185a90213a26c5da77"
   }
  }
 },
 "nbformat": 4,
 "nbformat_minor": 2
}
